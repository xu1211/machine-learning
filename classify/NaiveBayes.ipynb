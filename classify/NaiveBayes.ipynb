{
 "cells": [
  {
   "cell_type": "markdown",
   "id": "9ac67b3b-c2bf-422d-98c2-7cc70f0b0d5e",
   "metadata": {},
   "source": [
    "朴素贝叶斯"
   ]
  },
  {
   "cell_type": "code",
   "execution_count": 1,
   "id": "522ad21b-eb3e-4049-b63d-15b36b00d55a",
   "metadata": {},
   "outputs": [],
   "source": [
    "# A，B 两个类别\n",
    "# x(r红，g绿，b蓝)，y(s小，m中，l大) 两个特征值\n",
    "\n",
    "import pandas as pd\n",
    "\n",
    "def create_data():\n",
    "    # 生成示例数据\n",
    "    data = {\n",
    "        \"x\": [\n",
    "            \"r\",\n",
    "            \"g\",\n",
    "            \"r\",\n",
    "            \"b\",\n",
    "            \"g\",\n",
    "            \"g\",\n",
    "            \"r\",\n",
    "            \"r\",\n",
    "            \"b\",\n",
    "            \"g\",\n",
    "            \"g\",\n",
    "            \"r\",\n",
    "            \"b\",\n",
    "            \"b\",\n",
    "            \"g\",\n",
    "        ],\n",
    "        \"y\": [\n",
    "            \"m\",\n",
    "            \"s\",\n",
    "            \"l\",\n",
    "            \"s\",\n",
    "            \"m\",\n",
    "            \"s\",\n",
    "            \"m\",\n",
    "            \"s\",\n",
    "            \"m\",\n",
    "            \"l\",\n",
    "            \"l\",\n",
    "            \"s\",\n",
    "            \"m\",\n",
    "            \"m\",\n",
    "            \"l\",\n",
    "        ],\n",
    "        \"labels\": [\n",
    "            \"A\",\n",
    "            \"A\",\n",
    "            \"A\",\n",
    "            \"A\",\n",
    "            \"A\",\n",
    "            \"A\",\n",
    "            \"A\",\n",
    "            \"A\",\n",
    "            \"B\",\n",
    "            \"B\",\n",
    "            \"B\",\n",
    "            \"B\",\n",
    "            \"B\",\n",
    "            \"B\",\n",
    "            \"B\",\n",
    "        ],\n",
    "    }\n",
    "    data = pd.DataFrame(data, columns=[\"labels\", \"x\", \"y\"])\n",
    "    return data"
   ]
  },
  {
   "cell_type": "code",
   "execution_count": 2,
   "id": "35ab5b8c-9e5d-469a-bc26-2575f97173d9",
   "metadata": {},
   "outputs": [
    {
     "data": {
      "text/html": [
       "<div>\n",
       "<style scoped>\n",
       "    .dataframe tbody tr th:only-of-type {\n",
       "        vertical-align: middle;\n",
       "    }\n",
       "\n",
       "    .dataframe tbody tr th {\n",
       "        vertical-align: top;\n",
       "    }\n",
       "\n",
       "    .dataframe thead th {\n",
       "        text-align: right;\n",
       "    }\n",
       "</style>\n",
       "<table border=\"1\" class=\"dataframe\">\n",
       "  <thead>\n",
       "    <tr style=\"text-align: right;\">\n",
       "      <th></th>\n",
       "      <th>labels</th>\n",
       "      <th>x</th>\n",
       "      <th>y</th>\n",
       "    </tr>\n",
       "  </thead>\n",
       "  <tbody>\n",
       "    <tr>\n",
       "      <th>0</th>\n",
       "      <td>A</td>\n",
       "      <td>r</td>\n",
       "      <td>m</td>\n",
       "    </tr>\n",
       "    <tr>\n",
       "      <th>1</th>\n",
       "      <td>A</td>\n",
       "      <td>g</td>\n",
       "      <td>s</td>\n",
       "    </tr>\n",
       "    <tr>\n",
       "      <th>2</th>\n",
       "      <td>A</td>\n",
       "      <td>r</td>\n",
       "      <td>l</td>\n",
       "    </tr>\n",
       "    <tr>\n",
       "      <th>3</th>\n",
       "      <td>A</td>\n",
       "      <td>b</td>\n",
       "      <td>s</td>\n",
       "    </tr>\n",
       "    <tr>\n",
       "      <th>4</th>\n",
       "      <td>A</td>\n",
       "      <td>g</td>\n",
       "      <td>m</td>\n",
       "    </tr>\n",
       "    <tr>\n",
       "      <th>5</th>\n",
       "      <td>A</td>\n",
       "      <td>g</td>\n",
       "      <td>s</td>\n",
       "    </tr>\n",
       "    <tr>\n",
       "      <th>6</th>\n",
       "      <td>A</td>\n",
       "      <td>r</td>\n",
       "      <td>m</td>\n",
       "    </tr>\n",
       "    <tr>\n",
       "      <th>7</th>\n",
       "      <td>A</td>\n",
       "      <td>r</td>\n",
       "      <td>s</td>\n",
       "    </tr>\n",
       "    <tr>\n",
       "      <th>8</th>\n",
       "      <td>B</td>\n",
       "      <td>b</td>\n",
       "      <td>m</td>\n",
       "    </tr>\n",
       "    <tr>\n",
       "      <th>9</th>\n",
       "      <td>B</td>\n",
       "      <td>g</td>\n",
       "      <td>l</td>\n",
       "    </tr>\n",
       "    <tr>\n",
       "      <th>10</th>\n",
       "      <td>B</td>\n",
       "      <td>g</td>\n",
       "      <td>l</td>\n",
       "    </tr>\n",
       "    <tr>\n",
       "      <th>11</th>\n",
       "      <td>B</td>\n",
       "      <td>r</td>\n",
       "      <td>s</td>\n",
       "    </tr>\n",
       "    <tr>\n",
       "      <th>12</th>\n",
       "      <td>B</td>\n",
       "      <td>b</td>\n",
       "      <td>m</td>\n",
       "    </tr>\n",
       "    <tr>\n",
       "      <th>13</th>\n",
       "      <td>B</td>\n",
       "      <td>b</td>\n",
       "      <td>m</td>\n",
       "    </tr>\n",
       "    <tr>\n",
       "      <th>14</th>\n",
       "      <td>B</td>\n",
       "      <td>g</td>\n",
       "      <td>l</td>\n",
       "    </tr>\n",
       "  </tbody>\n",
       "</table>\n",
       "</div>"
      ],
      "text/plain": [
       "   labels  x  y\n",
       "0       A  r  m\n",
       "1       A  g  s\n",
       "2       A  r  l\n",
       "3       A  b  s\n",
       "4       A  g  m\n",
       "5       A  g  s\n",
       "6       A  r  m\n",
       "7       A  r  s\n",
       "8       B  b  m\n",
       "9       B  g  l\n",
       "10      B  g  l\n",
       "11      B  r  s\n",
       "12      B  b  m\n",
       "13      B  b  m\n",
       "14      B  g  l"
      ]
     },
     "execution_count": 2,
     "metadata": {},
     "output_type": "execute_result"
    }
   ],
   "source": [
    "# 加载数据，预览\n",
    "data = create_data()\n",
    "data"
   ]
  },
  {
   "cell_type": "markdown",
   "id": "0ef66985-767c-45d6-8d6f-06d6ec3ee06d",
   "metadata": {},
   "source": [
    "1. 求解 P(种类)先验概率\n",
    "A 的概率为 0.53\n",
    "B 的概率为 0.46"
   ]
  },
  {
   "cell_type": "code",
   "execution_count": 3,
   "id": "2c7c33f1-6318-4431-8bf2-6b5ac7039fe4",
   "metadata": {},
   "outputs": [
    {
     "data": {
      "text/plain": [
       "{'A': 0.5333333333333333, 'B': 0.4666666666666667}"
      ]
     },
     "execution_count": 3,
     "metadata": {},
     "output_type": "execute_result"
    }
   ],
   "source": [
    "# 极大似然估计 求解 P(类别)先验概率\n",
    "\n",
    "# 多项式模型\n",
    "def get_P_labels(labels):\n",
    "    # P(种类) 先验概率计算\n",
    "    labels = list(labels)  # 转换为 list 类型\n",
    "    P_label = {}  # 设置空字典用于存入 label 的概率\n",
    "    for label in labels:\n",
    "        # 统计 label 标签在标签集中出现的次数再除以总长度\n",
    "        P_label[label] = labels.count(label) / float(\n",
    "            len(labels)\n",
    "        )  # p = count(y) / count(Y)\n",
    "    return P_label\n",
    "\n",
    "\n",
    "P_labels = get_P_labels(data[\"labels\"])\n",
    "P_labels"
   ]
  },
  {
   "cell_type": "markdown",
   "id": "cb8ae45c-433b-4835-ba67-85a3c1c79254",
   "metadata": {},
   "source": [
    "2. 求解 P(类别|特征)概率"
   ]
  },
  {
   "cell_type": "code",
   "execution_count": 4,
   "id": "43bc3762-ee64-46ba-a029-0dc9ff3f03fd",
   "metadata": {},
   "outputs": [
    {
     "data": {
      "text/plain": [
       "array([['r', 'm'],\n",
       "       ['g', 's'],\n",
       "       ['r', 'l'],\n",
       "       ['b', 's'],\n",
       "       ['g', 'm'],\n",
       "       ['g', 's'],\n",
       "       ['r', 'm'],\n",
       "       ['r', 's'],\n",
       "       ['b', 'm'],\n",
       "       ['g', 'l'],\n",
       "       ['g', 'l'],\n",
       "       ['r', 's'],\n",
       "       ['b', 'm'],\n",
       "       ['b', 'm'],\n",
       "       ['g', 'l']], dtype=object)"
      ]
     },
     "execution_count": 4,
     "metadata": {},
     "output_type": "execute_result"
    }
   ],
   "source": [
    "# 将 特征 合并生成一个 NumPy 数组\n",
    "\n",
    "import numpy as np\n",
    "\n",
    "# 将 data 中的属性切割出来，即 x 和 y 属性\n",
    "train_data = np.array(data.iloc[:, 1:])\n",
    "train_data"
   ]
  },
  {
   "cell_type": "code",
   "execution_count": 5,
   "id": "7d17eafb-89dc-4ae7-8601-76696f9f3318",
   "metadata": {},
   "outputs": [
    {
     "data": {
      "text/plain": [
       "[[0, 1, 2, 3, 4, 5, 6, 7], [8, 9, 10, 11, 12, 13, 14]]"
      ]
     },
     "execution_count": 5,
     "metadata": {},
     "output_type": "execute_result"
    }
   ],
   "source": [
    "# 区分出 A类别的特征 和 B类别的特征\n",
    "\n",
    "labels = data[\"labels\"]\n",
    "label_index = []\n",
    "# 遍历所有的标签，这里就是将标签为 A 和 B 的数据集分开，label_index 中存的是该数据的下标\n",
    "for y in P_labels.keys():\n",
    "    temp_index = []\n",
    "    # enumerate 函数返回 Series 类型数的索引和值，其中 i 为索引，label 为值\n",
    "    for i, label in enumerate(labels):\n",
    "        if label == y:\n",
    "            temp_index.append(i)\n",
    "        else:\n",
    "            pass\n",
    "    label_index.append(temp_index)\n",
    "label_index"
   ]
  },
  {
   "cell_type": "code",
   "execution_count": 6,
   "id": "459fa42c-d5ea-472c-82bb-1d4881799b84",
   "metadata": {},
   "outputs": [
    {
     "data": {
      "text/plain": [
       "[0, 2, 6, 7, 11]"
      ]
     },
     "execution_count": 6,
     "metadata": {},
     "output_type": "execute_result"
    }
   ],
   "source": [
    "# 找到 特征 x(r红)) 的索引值\n",
    "\n",
    "# 遍历 train_data 中的第一列数据，提取出里面内容为r的数据\n",
    "x_index = [\n",
    "    i for i, feature in enumerate(train_data[:, 0]) if feature == \"r\"\n",
    "]  # 效果等同于求类别索引中 for 循环\n",
    "\n",
    "x_index"
   ]
  },
  {
   "cell_type": "code",
   "execution_count": 7,
   "id": "e65c0f43-4d8a-4933-9ecd-20eafa027806",
   "metadata": {},
   "outputs": [
    {
     "name": "stdout",
     "output_type": "stream",
     "text": [
      "既符合 x = r 又是 A 类别的索引值： {0, 2, 6, 7}\n",
      "先验概率 P(r|A): 0.5\n"
     ]
    }
   ],
   "source": [
    "# 求 特征x(r红)) 是 类别A 的索引值\n",
    "# 即 P(特征r | 类别A) \n",
    "\n",
    "# 取集合 x_index （x 属性为 r 的数据集合）与集合 label_index[0]（标签为 A 的数据集合）的交集\n",
    "x_label = set(x_index) & set(label_index[0])\n",
    "print(\"既符合 x = r 又是 A 类别的索引值：\", x_label)\n",
    "x_label_count = len(x_label)\n",
    "# 这里就是用类别 A 中的属性 x 为 r 的数据个数除以类别 A 的总个数\n",
    "print(\"先验概率 P(r|A):\", x_label_count / float(len(label_index[0])))  # 先验概率的计算公式"
   ]
  },
  {
   "cell_type": "code",
   "execution_count": 8,
   "id": "d335e01a-052b-4557-bf9a-56f6f34adb4f",
   "metadata": {},
   "outputs": [
    {
     "data": {
      "text/plain": [
       "{'r|A': 0.5,\n",
       " 'm|A': 0.375,\n",
       " 'r|B': 0.14285714285714285,\n",
       " 'm|B': 0.42857142857142855}"
      ]
     },
     "execution_count": 8,
     "metadata": {},
     "output_type": "execute_result"
    }
   ],
   "source": [
    "# 综上，写一个求  P(特征∣类别) 函数\n",
    "\n",
    "def get_P_fea_lab(P_label, features, data):\n",
    "    # P(特征∣种类) 先验概率计算\n",
    "    # 该函数就是求 种类为 P_label 条件下特征为 features 的概率\n",
    "    P_fea_lab = {}\n",
    "    train_data = data.iloc[:, 1:]\n",
    "    train_data = np.array(train_data)\n",
    "    labels = data[\"labels\"]\n",
    "    # 遍历所有的标签\n",
    "    for each_label in P_label.keys():\n",
    "        # 上面代码的另一种写法，这里就是将标签为 A 和 B 的数据集分开，label_index 中存的是该数据的下标\n",
    "        label_index = [i for i, label in enumerate(labels) if label == each_label]\n",
    "\n",
    "        # 遍历该属性下的所有取值\n",
    "        # 求出每种标签下，该属性取每种值的概率\n",
    "        for j in range(len(features)):\n",
    "            # 筛选出该属性下属性值为 features[j] 的数据\n",
    "            feature_index = [\n",
    "                i\n",
    "                for i, feature in enumerate(train_data[:, j])\n",
    "                if feature == features[j]\n",
    "            ]\n",
    "\n",
    "            # set(x_index)&set(y_index) 取交集，得到标签值为 each_label,属性值为 features[j] 的数据集合\n",
    "            fea_lab_count = len(set(feature_index) & set(label_index))\n",
    "            key = str(features[j]) + \"|\" + str(each_label)  # 拼接字符串\n",
    "\n",
    "            # 计算先验概率\n",
    "            # 计算 labels 为 each_label下，featurs 为 features[j] 的概率值\n",
    "            P_fea_lab[key] = fea_lab_count / float(len(label_index))\n",
    "    return P_fea_lab\n",
    "\n",
    "# 测试 \"r\", \"m\"的 P(特征∣类别)\n",
    "features = [\"r\", \"m\"]\n",
    "get_P_fea_lab(P_labels, features, data)"
   ]
  },
  {
   "cell_type": "code",
   "execution_count": 49,
   "id": "b3c81b07-1154-446b-86e0-dadc716007c0",
   "metadata": {},
   "outputs": [],
   "source": [
    "# 朴素贝叶斯分类过程进行完整实现\n",
    "\n",
    "# 朴素贝叶斯分类器\n",
    "def classify(data, features):\n",
    "    # 1. 求 labels 中每个 label 的先验概率 P（B类别）\n",
    "    labels = data[\"labels\"]\n",
    "    P_label = get_P_labels(labels)  # P_label 为一个字典，存的是每个 B 对应的 P(B)\n",
    "    print(f'P(\"A\"): {P_label['A']}')\n",
    "    print(f'P(\"B\"): {P_label['B']}')\n",
    "\n",
    "    # 2. 求 P（A特征 | B类别）\n",
    "    P_fea_lab = get_P_fea_lab(P_label, features, data)\n",
    "    # print(P_fea_lab) \n",
    "    #{'r|A': 0.5, \n",
    "    # 'm|A': 0.375, \n",
    "    # 'r|B': 0.14285714285714285, \n",
    "    # 'm|B': 0.42857142857142855}\n",
    "    \n",
    "    \n",
    "    P = {}\n",
    "    P_show = {}  # 后验概率\n",
    "    for each_label in P_label:\n",
    "        P[each_label] = P_label[each_label]\n",
    "        \n",
    "        # 遍历每个标签下的每种属性\n",
    "        for each_feature in features:\n",
    "            print()\n",
    "            # 拼接字符串为 P(B/A) 用于字典的键值\n",
    "            key = str(each_label) + \"|\" + str(features)\n",
    "            \n",
    "            # 3. 求 P(B|A) = P(B) * P(A|B) A特征是B类别的概率。 因为所有的后验概率，分母相同。因此，在计算时可以忽略掉。\n",
    "\n",
    "            print(f'P(\"{key}\") = P(\"{each_label}\") * P({str(each_feature) + \"|\" + str(each_label)}) = {P[each_label]} * {P_fea_lab[str(each_feature) + \"|\" + str(each_label)]}')\n",
    "            P_show[key] = (\n",
    "                P[each_label] * P_fea_lab[str(each_feature) + \"|\" + str(each_label)]\n",
    "            )\n",
    "            \n",
    "            # 把刚才算的概率放到 P 列表里面，这个 P 列表的键值变成了标签。\n",
    "            # 这样做的目的，其实是为了在后面取最大时，取出就是标签，而不是 标签|特征\n",
    "            print(f'P(\"{each_label}\") = P(\"{each_label}\") * P({str(each_feature) + \"|\" + str(each_label)}) = {P[each_label]} * {P_fea_lab[str(each_feature) + \"|\" + str(each_label)]}')\n",
    "            P[each_label] = (\n",
    "                P[each_label] * P_fea_lab[str(each_feature) + \"|\" + str(each_label)]\n",
    "            )\n",
    "    print()\n",
    "    # 输出 P_show 和 P 观察，发现他们的概率值没有变，只是字典的 key 值变了\n",
    "    print('后验概率P(类别|标签): ', P_show)\n",
    "    print(features,'概率是: ', P)\n",
    "    features_label = max(P, key=P.get)  # 概率最大值对应的类别\n",
    "    return features_label"
   ]
  },
  {
   "cell_type": "code",
   "execution_count": 50,
   "id": "402a0389-06ab-45bc-bc57-0f928f04626e",
   "metadata": {},
   "outputs": [
    {
     "name": "stdout",
     "output_type": "stream",
     "text": [
      "P(\"A\"): 0.5333333333333333\n",
      "P(\"B\"): 0.4666666666666667\n",
      "\n",
      "P(\"A|['r', 'm']\") = P(\"A\") * P(r|A) = 0.5333333333333333 * 0.5\n",
      "P(\"A\") = P(\"A\") * P(r|A) = 0.5333333333333333 * 0.5\n",
      "\n",
      "P(\"A|['r', 'm']\") = P(\"A\") * P(m|A) = 0.26666666666666666 * 0.375\n",
      "P(\"A\") = P(\"A\") * P(m|A) = 0.26666666666666666 * 0.375\n",
      "\n",
      "P(\"B|['r', 'm']\") = P(\"B\") * P(r|B) = 0.4666666666666667 * 0.14285714285714285\n",
      "P(\"B\") = P(\"B\") * P(r|B) = 0.4666666666666667 * 0.14285714285714285\n",
      "\n",
      "P(\"B|['r', 'm']\") = P(\"B\") * P(m|B) = 0.06666666666666667 * 0.42857142857142855\n",
      "P(\"B\") = P(\"B\") * P(m|B) = 0.06666666666666667 * 0.42857142857142855\n",
      "\n",
      "后验概率P(类别|标签):  {\"A|['r', 'm']\": 0.1, \"B|['r', 'm']\": 0.02857142857142857}\n",
      "['r', 'm'] 概率是:  {'A': 0.1, 'B': 0.02857142857142857}\n"
     ]
    },
    {
     "data": {
      "text/plain": [
       "'A'"
      ]
     },
     "execution_count": 50,
     "metadata": {},
     "output_type": "execute_result"
    }
   ],
   "source": [
    "classify(data, [\"r\", \"m\"])"
   ]
  }
 ],
 "metadata": {
  "kernelspec": {
   "display_name": "Python 3 (ipykernel)",
   "language": "python",
   "name": "python3"
  },
  "language_info": {
   "codemirror_mode": {
    "name": "ipython",
    "version": 3
   },
   "file_extension": ".py",
   "mimetype": "text/x-python",
   "name": "python",
   "nbconvert_exporter": "python",
   "pygments_lexer": "ipython3",
   "version": "3.12.2"
  }
 },
 "nbformat": 4,
 "nbformat_minor": 5
}
