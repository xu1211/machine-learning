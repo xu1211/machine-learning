{
 "cells": [
  {
   "cell_type": "code",
   "execution_count": 21,
   "id": "bd7e5868-d2f3-48f1-871e-9a1b54a67cc1",
   "metadata": {},
   "outputs": [],
   "source": [
    "import numpy as np\n",
    "from matplotlib import pyplot as plt\n",
    "from sklearn.linear_model import LinearRegression\n",
    "from sklearn.preprocessing import PolynomialFeatures"
   ]
  },
  {
   "cell_type": "code",
   "execution_count": 22,
   "id": "0452dec7-e6e1-4c4f-9282-561ed0fb808e",
   "metadata": {},
   "outputs": [
    {
     "data": {
      "text/html": [
       "<div>\n",
       "<style scoped>\n",
       "    .dataframe tbody tr th:only-of-type {\n",
       "        vertical-align: middle;\n",
       "    }\n",
       "\n",
       "    .dataframe tbody tr th {\n",
       "        vertical-align: top;\n",
       "    }\n",
       "\n",
       "    .dataframe thead th {\n",
       "        text-align: right;\n",
       "    }\n",
       "</style>\n",
       "<table border=\"1\" class=\"dataframe\">\n",
       "  <thead>\n",
       "    <tr style=\"text-align: right;\">\n",
       "      <th></th>\n",
       "      <th>Year</th>\n",
       "      <th>Values</th>\n",
       "    </tr>\n",
       "  </thead>\n",
       "  <tbody>\n",
       "    <tr>\n",
       "      <th>0</th>\n",
       "      <td>1983</td>\n",
       "      <td>48.676809</td>\n",
       "    </tr>\n",
       "    <tr>\n",
       "      <th>1</th>\n",
       "      <td>1984</td>\n",
       "      <td>50.653151</td>\n",
       "    </tr>\n",
       "    <tr>\n",
       "      <th>2</th>\n",
       "      <td>1985</td>\n",
       "      <td>45.603729</td>\n",
       "    </tr>\n",
       "    <tr>\n",
       "      <th>3</th>\n",
       "      <td>1986</td>\n",
       "      <td>45.511160</td>\n",
       "    </tr>\n",
       "    <tr>\n",
       "      <th>4</th>\n",
       "      <td>1987</td>\n",
       "      <td>52.882892</td>\n",
       "    </tr>\n",
       "    <tr>\n",
       "      <th>5</th>\n",
       "      <td>1988</td>\n",
       "      <td>62.710162</td>\n",
       "    </tr>\n",
       "    <tr>\n",
       "      <th>6</th>\n",
       "      <td>1989</td>\n",
       "      <td>68.354736</td>\n",
       "    </tr>\n",
       "    <tr>\n",
       "      <th>7</th>\n",
       "      <td>1990</td>\n",
       "      <td>73.618808</td>\n",
       "    </tr>\n",
       "    <tr>\n",
       "      <th>8</th>\n",
       "      <td>1991</td>\n",
       "      <td>69.748838</td>\n",
       "    </tr>\n",
       "    <tr>\n",
       "      <th>9</th>\n",
       "      <td>1992</td>\n",
       "      <td>69.905091</td>\n",
       "    </tr>\n",
       "    <tr>\n",
       "      <th>10</th>\n",
       "      <td>1993</td>\n",
       "      <td>70.517807</td>\n",
       "    </tr>\n",
       "    <tr>\n",
       "      <th>11</th>\n",
       "      <td>1994</td>\n",
       "      <td>62.019265</td>\n",
       "    </tr>\n",
       "    <tr>\n",
       "      <th>12</th>\n",
       "      <td>1995</td>\n",
       "      <td>73.887410</td>\n",
       "    </tr>\n",
       "    <tr>\n",
       "      <th>13</th>\n",
       "      <td>1996</td>\n",
       "      <td>73.376443</td>\n",
       "    </tr>\n",
       "    <tr>\n",
       "      <th>14</th>\n",
       "      <td>1997</td>\n",
       "      <td>75.599240</td>\n",
       "    </tr>\n",
       "    <tr>\n",
       "      <th>15</th>\n",
       "      <td>1998</td>\n",
       "      <td>71.236410</td>\n",
       "    </tr>\n",
       "    <tr>\n",
       "      <th>16</th>\n",
       "      <td>1999</td>\n",
       "      <td>70.783087</td>\n",
       "    </tr>\n",
       "    <tr>\n",
       "      <th>17</th>\n",
       "      <td>2000</td>\n",
       "      <td>72.381822</td>\n",
       "    </tr>\n",
       "    <tr>\n",
       "      <th>18</th>\n",
       "      <td>2001</td>\n",
       "      <td>74.997859</td>\n",
       "    </tr>\n",
       "    <tr>\n",
       "      <th>19</th>\n",
       "      <td>2002</td>\n",
       "      <td>72.610008</td>\n",
       "    </tr>\n",
       "    <tr>\n",
       "      <th>20</th>\n",
       "      <td>2003</td>\n",
       "      <td>80.104407</td>\n",
       "    </tr>\n",
       "    <tr>\n",
       "      <th>21</th>\n",
       "      <td>2004</td>\n",
       "      <td>75.126596</td>\n",
       "    </tr>\n",
       "    <tr>\n",
       "      <th>22</th>\n",
       "      <td>2005</td>\n",
       "      <td>72.750992</td>\n",
       "    </tr>\n",
       "    <tr>\n",
       "      <th>23</th>\n",
       "      <td>2006</td>\n",
       "      <td>85.550532</td>\n",
       "    </tr>\n",
       "    <tr>\n",
       "      <th>24</th>\n",
       "      <td>2007</td>\n",
       "      <td>82.033782</td>\n",
       "    </tr>\n",
       "    <tr>\n",
       "      <th>25</th>\n",
       "      <td>2008</td>\n",
       "      <td>76.587843</td>\n",
       "    </tr>\n",
       "    <tr>\n",
       "      <th>26</th>\n",
       "      <td>2009</td>\n",
       "      <td>82.602683</td>\n",
       "    </tr>\n",
       "    <tr>\n",
       "      <th>27</th>\n",
       "      <td>2010</td>\n",
       "      <td>80.786124</td>\n",
       "    </tr>\n",
       "    <tr>\n",
       "      <th>28</th>\n",
       "      <td>2011</td>\n",
       "      <td>78.931800</td>\n",
       "    </tr>\n",
       "    <tr>\n",
       "      <th>29</th>\n",
       "      <td>2012</td>\n",
       "      <td>83.456979</td>\n",
       "    </tr>\n",
       "    <tr>\n",
       "      <th>30</th>\n",
       "      <td>2013</td>\n",
       "      <td>85.124059</td>\n",
       "    </tr>\n",
       "    <tr>\n",
       "      <th>31</th>\n",
       "      <td>2014</td>\n",
       "      <td>87.375816</td>\n",
       "    </tr>\n",
       "    <tr>\n",
       "      <th>32</th>\n",
       "      <td>2015</td>\n",
       "      <td>82.704588</td>\n",
       "    </tr>\n",
       "    <tr>\n",
       "      <th>33</th>\n",
       "      <td>2016</td>\n",
       "      <td>85.898262</td>\n",
       "    </tr>\n",
       "  </tbody>\n",
       "</table>\n",
       "</div>"
      ],
      "text/plain": [
       "    Year     Values\n",
       "0   1983  48.676809\n",
       "1   1984  50.653151\n",
       "2   1985  45.603729\n",
       "3   1986  45.511160\n",
       "4   1987  52.882892\n",
       "5   1988  62.710162\n",
       "6   1989  68.354736\n",
       "7   1990  73.618808\n",
       "8   1991  69.748838\n",
       "9   1992  69.905091\n",
       "10  1993  70.517807\n",
       "11  1994  62.019265\n",
       "12  1995  73.887410\n",
       "13  1996  73.376443\n",
       "14  1997  75.599240\n",
       "15  1998  71.236410\n",
       "16  1999  70.783087\n",
       "17  2000  72.381822\n",
       "18  2001  74.997859\n",
       "19  2002  72.610008\n",
       "20  2003  80.104407\n",
       "21  2004  75.126596\n",
       "22  2005  72.750992\n",
       "23  2006  85.550532\n",
       "24  2007  82.033782\n",
       "25  2008  76.587843\n",
       "26  2009  82.602683\n",
       "27  2010  80.786124\n",
       "28  2011  78.931800\n",
       "29  2012  83.456979\n",
       "30  2013  85.124059\n",
       "31  2014  87.375816\n",
       "32  2015  82.704588\n",
       "33  2016  85.898262"
      ]
     },
     "execution_count": 22,
     "metadata": {},
     "output_type": "execute_result"
    }
   ],
   "source": [
    "import pandas as pd\n",
    "\n",
    "# 加载数据集 世界麻疹疫苗接种率」\n",
    "url = 'https://cdn.aibydoing.com/hands-on-ai/files/course-6-vaccine.csv'\n",
    "storage_options = {'User-Agent': 'Mozilla/5.0'}\n",
    "df = pd.read_csv(url, storage_options=storage_options)\n",
    "df"
   ]
  },
  {
   "cell_type": "code",
   "execution_count": 23,
   "id": "c2324ef0-deb3-4b8f-8b95-e8ce71c1baa7",
   "metadata": {},
   "outputs": [
    {
     "data": {
      "text/plain": [
       "<matplotlib.collections.PathCollection at 0x14fa24bc0>"
      ]
     },
     "execution_count": 23,
     "metadata": {},
     "output_type": "execute_result"
    },
    {
     "data": {
      "image/png": "[encoded data removed]",
      "text/plain": [
       "<Figure size 640x480 with 1 Axes>"
      ]
     },
     "metadata": {},
     "output_type": "display_data"
    }
   ],
   "source": [
    "# 将数据绘制成图表\n",
    "\n",
    "# 定义 x, y 的取值\n",
    "x = df[\"Year\"]\n",
    "y = df[\"Values\"]\n",
    "# 绘图\n",
    "plt.plot(x, y, \"r\")\n",
    "plt.scatter(x, y)"
   ]
  },
  {
   "cell_type": "markdown",
   "id": "e3ad5fad-63a7-4e96-b9f7-5ac9c0e21b82",
   "metadata": {},
   "source": [
    "训练 线性回归模型"
   ]
  },
  {
   "cell_type": "code",
   "execution_count": 24,
   "id": "7223bc72-8c55-4bf8-a53d-135acf8a8eb3",
   "metadata": {},
   "outputs": [],
   "source": [
    "# 首先划分 dateframe 为训练集和测试集\n",
    "train_df = df[: int(len(df) * 0.7)]\n",
    "test_df = df[int(len(df) * 0.7) :]\n",
    "\n",
    "# 定义训练和测试使用的自变量和因变量\n",
    "X_train = train_df[\"Year\"].values\n",
    "y_train = train_df[\"Values\"].values\n",
    "\n",
    "X_test = test_df[\"Year\"].values\n",
    "y_test = test_df[\"Values\"].values"
   ]
  },
  {
   "cell_type": "code",
   "execution_count": 25,
   "id": "eada4ab0-0b95-419c-bf18-1ae4244ca7b4",
   "metadata": {},
   "outputs": [
    {
     "data": {
      "text/plain": [
       "array([[81.83437635],\n",
       "       [83.09935437],\n",
       "       [84.36433239],\n",
       "       [85.62931041],\n",
       "       [86.89428843],\n",
       "       [88.15926645],\n",
       "       [89.42424447],\n",
       "       [90.68922249],\n",
       "       [91.95420051],\n",
       "       [93.21917853],\n",
       "       [94.48415655]])"
      ]
     },
     "execution_count": 25,
     "metadata": {},
     "output_type": "execute_result"
    }
   ],
   "source": [
    "# 建立线性回归模型\n",
    "model = LinearRegression()\n",
    "model.fit(X_train.reshape(len(X_train), 1), y_train.reshape(len(y_train), 1))\n",
    "results = model.predict(X_test.reshape(len(X_test), 1))\n",
    "results  # 线性回归模型在测试集上的预测结果"
   ]
  },
  {
   "cell_type": "code",
   "execution_count": 26,
   "id": "c30bfccc-6586-4837-b278-0eef6777c533",
   "metadata": {},
   "outputs": [
    {
     "name": "stdout",
     "output_type": "stream",
     "text": [
      "线性回归平均绝对误差:  6.011979515629812\n",
      "线性回归均方误差:  43.531858295153434\n"
     ]
    }
   ],
   "source": [
    "from sklearn.metrics import mean_absolute_error\n",
    "from sklearn.metrics import mean_squared_error\n",
    "\n",
    "print(\"线性回归平均绝对误差: \", mean_absolute_error(y_test, results.flatten()))\n",
    "print(\"线性回归均方误差: \", mean_squared_error(y_test, results.flatten()))"
   ]
  },
  {
   "cell_type": "markdown",
   "id": "81ab93f8-43f6-4d7f-919d-1b5c3653cec5",
   "metadata": {},
   "source": [
    "训练 2 次多项式回归模型"
   ]
  },
  {
   "cell_type": "code",
   "execution_count": 27,
   "id": "0991c1d2-2cc0-477c-a22b-47216b2628a8",
   "metadata": {},
   "outputs": [
    {
     "data": {
      "text/plain": [
       "array([71.98010746, 70.78151826, 69.38584368, 67.79308372, 66.00323838,\n",
       "       64.01630767, 61.83229158, 59.45119011, 56.87300326, 54.09773104,\n",
       "       51.12537344])"
      ]
     },
     "execution_count": 27,
     "metadata": {},
     "output_type": "execute_result"
    }
   ],
   "source": [
    "# 2 次多项式回归特征矩阵\n",
    "poly_features_2 = PolynomialFeatures(degree=2, include_bias=False)\n",
    "poly_X_train_2 = poly_features_2.fit_transform(X_train.reshape(len(X_train), 1))\n",
    "poly_X_test_2 = poly_features_2.fit_transform(X_test.reshape(len(X_test), 1))\n",
    "\n",
    "# 2 次多项式回归模型训练与预测\n",
    "model = LinearRegression()\n",
    "model.fit(poly_X_train_2, y_train.reshape(len(X_train), 1))  # 训练模型\n",
    "\n",
    "results_2 = model.predict(poly_X_test_2)  # 预测结果\n",
    "\n",
    "results_2.flatten()  # 打印扁平化后的预测结果"
   ]
  },
  {
   "cell_type": "code",
   "execution_count": 28,
   "id": "cdfb4d38-d020-4d67-bf93-7920b7f21216",
   "metadata": {},
   "outputs": [
    {
     "name": "stdout",
     "output_type": "stream",
     "text": [
      "2 次多项式回归平均绝对误差:  19.792070829572946\n",
      "2 次多项式均方误差:  464.32903847534686\n"
     ]
    }
   ],
   "source": [
    "print(\"2 次多项式回归平均绝对误差: \", mean_absolute_error(y_test, results_2.flatten()))\n",
    "print(\"2 次多项式均方误差: \", mean_squared_error(y_test, results_2.flatten()))"
   ]
  },
  {
   "cell_type": "markdown",
   "id": "1cac46fa-4635-4e08-a79a-ce5ff4a99299",
   "metadata": {},
   "source": [
    "此数据集 线性回归模型的预测结果 要优于 2次多项式回归模型的预测结果"
   ]
  },
  {
   "cell_type": "code",
   "execution_count": 29,
   "id": "53c067c5-365b-4c30-97cd-d3eef8297cd4",
   "metadata": {},
   "outputs": [
    {
     "name": "stdout",
     "output_type": "stream",
     "text": [
      "3 次多项式回归平均绝对误差:  4.547692030677687\n",
      "3 次多项式均方误差:  29.933057420285273\n",
      "---\n",
      "4 次多项式回归平均绝对误差:  4.424398084402177\n",
      "4 次多项式均方误差:  29.02940070116114\n",
      "---\n",
      "5 次多项式回归平均绝对误差:  4.341616857646972\n",
      "5 次多项式均方误差:  28.221932647958223\n",
      "---\n"
     ]
    }
   ],
   "source": [
    "from sklearn.pipeline import make_pipeline\n",
    "\n",
    "X_train = X_train.reshape(len(X_train), 1)\n",
    "X_test = X_test.reshape(len(X_test), 1)\n",
    "y_train = y_train.reshape(len(y_train), 1)\n",
    "\n",
    "for m in [3, 4, 5]:\n",
    "    model = make_pipeline(PolynomialFeatures(m, include_bias=False), LinearRegression())\n",
    "    model.fit(X_train, y_train)\n",
    "    pre_y = model.predict(X_test)\n",
    "    print(\"{} 次多项式回归平均绝对误差: \".format(m), mean_absolute_error(y_test, pre_y.flatten()))\n",
    "    print(\"{} 次多项式均方误差: \".format(m), mean_squared_error(y_test, pre_y.flatten()))\n",
    "    print(\"---\")"
   ]
  },
  {
   "cell_type": "markdown",
   "id": "ad913f9a-c6cb-4878-83bd-572e596d9e64",
   "metadata": {},
   "source": [
    "3，4，5 次多项式回归的结果 均优于 线性回归模型"
   ]
  },
  {
   "cell_type": "markdown",
   "id": "5d88ea77-3336-4a9e-9591-22c50b9e7fe8",
   "metadata": {},
   "source": [
    "多项式回归预测次数选择？\n",
    "选择一个误差指标，例如这里选择 MSE，然后计算出该指标随多项式次数增加而变化的图像"
   ]
  },
  {
   "cell_type": "code",
   "execution_count": 30,
   "id": "a20db43b-da69-4417-b1f0-1b84d767ec63",
   "metadata": {},
   "outputs": [
    {
     "name": "stdout",
     "output_type": "stream",
     "text": [
      "MSE 计算结果:  [43.531858295153434, 464.32903847534686, 29.933057420285273, 29.02940070116114, 28.221932647958223, 27.440821643005446, 26.712320051116773, 26.038729592942772, 25.422418053695605, 24.86581840902298]\n"
     ]
    },
    {
     "data": {
      "text/plain": [
       "Text(0, 0.5, 'MSE')"
      ]
     },
     "execution_count": 30,
     "metadata": {},
     "output_type": "execute_result"
    },
    {
     "data": {
      "image/png": "[encoded data removed]",
      "text/plain": [
       "<Figure size 640x480 with 1 Axes>"
      ]
     },
     "metadata": {},
     "output_type": "display_data"
    }
   ],
   "source": [
    "# 计算 m 次多项式回归预测结果的 MSE 评价指标并绘图\n",
    "mse = []  # 用于存储各最高次多项式 MSE 值\n",
    "m = 1  # 初始 m 值\n",
    "m_max = 10  # 设定最高次数\n",
    "while m <= m_max:\n",
    "    model = make_pipeline(PolynomialFeatures(m, include_bias=False), LinearRegression())\n",
    "    model.fit(X_train, y_train)  # 训练模型\n",
    "    pre_y = model.predict(X_test)  # 测试模型\n",
    "    mse.append(mean_squared_error(y_test, pre_y.flatten()))  # 计算 MSE\n",
    "    m = m + 1\n",
    "\n",
    "print(\"MSE 计算结果: \", mse)\n",
    "# 绘图\n",
    "plt.plot([i for i in range(1, m_max + 1)], mse, \"r\")\n",
    "plt.scatter([i for i in range(1, m_max + 1)], mse)\n",
    "\n",
    "# 绘制图名称等\n",
    "plt.title(\"MSE of m degree of polynomial regression\")\n",
    "plt.xlabel(\"m\")\n",
    "plt.ylabel(\"MSE\")"
   ]
  },
  {
   "cell_type": "markdown",
   "id": "bc678eb7-a622-4753-bcb4-00264e8847ee",
   "metadata": {},
   "source": [
    "MSE 值在 2次多项式回归预测时达到最高点，之后趋于平稳下降\n",
    "所以，避免出现过拟合选3就好"
   ]
  }
 ],
 "metadata": {
  "kernelspec": {
   "display_name": "Python 3 (ipykernel)",
   "language": "python",
   "name": "python3"
  },
  "language_info": {
   "codemirror_mode": {
    "name": "ipython",
    "version": 3
   },
   "file_extension": ".py",
   "mimetype": "text/x-python",
   "name": "python",
   "nbconvert_exporter": "python",
   "pygments_lexer": "ipython3",
   "version": "3.12.2"
  }
 },
 "nbformat": 4,
 "nbformat_minor": 5
}
